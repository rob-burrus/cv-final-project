{
 "cells": [
  {
   "cell_type": "code",
   "execution_count": 1,
   "metadata": {},
   "outputs": [],
   "source": [
    "import h5py\n",
    "import numpy as np\n",
    "import scipy.io\n",
    "import cv2\n",
    "import glob\n",
    "import os"
   ]
  },
  {
   "cell_type": "code",
   "execution_count": 3,
   "metadata": {},
   "outputs": [
    {
     "name": "stdout",
     "output_type": "stream",
     "text": [
      "10000\n",
      "20000\n",
      "30000\n",
      "TRAIN ---  31844\n",
      "40000\n",
      "TEST ---  44823\n",
      "50000\n",
      "60000\n",
      "70000\n",
      "80000\n",
      "90000\n",
      "100000\n",
      "110000\n",
      "120000\n",
      "130000\n",
      "140000\n",
      "150000\n",
      "160000\n",
      "170000\n",
      "180000\n",
      "190000\n",
      "200000\n",
      "210000\n",
      "220000\n",
      "230000\n",
      "EXTRA ---  236192\n"
     ]
    }
   ],
   "source": [
    "def loadformat1(filepath, count):\n",
    "    filenames = glob.glob(filepath)\n",
    "#     filenames = filenames[:110000]\n",
    "\n",
    "    for i, filename in enumerate(filenames):\n",
    "        img = cv2.imread(filename)\n",
    "        if len(img) >= 16 and len(img[0]) >= 48:\n",
    "            cropped = img[0:16, 0:16, :]\n",
    "            res = res = cv2.resize(cropped, dsize=(32, 32), interpolation=cv2.INTER_CUBIC)\n",
    "            cv2.imwrite('nondigits/{}.png'.format(count), res)\n",
    "            count += 1\n",
    "            if count % 10000 == 0:\n",
    "                print(count)\n",
    "    return count\n",
    "\n",
    "count = 0\n",
    "count = loadformat1('svhn_format1/train/*.png', count)\n",
    "print(\"TRAIN --- \", count)\n",
    "count = loadformat1('svhn_format1/test/*.png', count)\n",
    "print(\"TEST --- \", count)\n",
    "count = loadformat1('svhn_format1/extra/*.png', count)\n",
    "print(\"EXTRA --- \", count)"
   ]
  },
  {
   "cell_type": "code",
   "execution_count": 4,
   "metadata": {},
   "outputs": [
    {
     "name": "stdout",
     "output_type": "stream",
     "text": [
      "(32, 32, 3)\n"
     ]
    }
   ],
   "source": [
    "img = cv2.imread('nondigits/1.png')\n",
    "print(img.shape)"
   ]
  },
  {
   "cell_type": "code",
   "execution_count": 4,
   "metadata": {},
   "outputs": [
    {
     "name": "stdout",
     "output_type": "stream",
     "text": [
      "(73257, 32, 32, 3)\n",
      "(73257, 1)\n",
      "(26032, 32, 32, 3)\n",
      "(26032, 1)\n",
      "(531131, 32, 32, 3)\n",
      "(531131, 1)\n",
      "final\n",
      "(630420, 32, 32, 3)\n",
      "(630420, 1)\n"
     ]
    }
   ],
   "source": [
    "def createCombinedFormat2Matfile():\n",
    "    filename = 'svhn_format2/train_32x32.mat'\n",
    "    data = scipy.io.loadmat(filename)\n",
    "    Xtrain = data['X']\n",
    "    Xtrain = np.rollaxis(Xtrain, 3)\n",
    "    ytrain = data['y'].flatten()\n",
    "    ytrain[ytrain == 10] = 0\n",
    "    ytrain = ytrain.reshape((len(ytrain), 1))\n",
    "    print(Xtrain.shape)\n",
    "    print(ytrain.shape)\n",
    "    filename = 'svhn_format2/test_32x32.mat'\n",
    "    data = scipy.io.loadmat(filename)\n",
    "    Xtest = data['X']\n",
    "    Xtest = np.rollaxis(Xtest, 3)\n",
    "    ytest = data['y']\n",
    "    ytest[ytest == 10] = 0\n",
    "    ytest = ytest.reshape((len(ytest), 1))\n",
    "    print(Xtest.shape)\n",
    "    print(ytest.shape)\n",
    "    \n",
    "    Xfinal = np.concatenate((Xtrain, Xtest))\n",
    "    yfinal = np.concatenate((ytrain, ytest))\n",
    "    \n",
    "    filename = 'svhn_format2/extra_32x32.mat'\n",
    "    data = scipy.io.loadmat(filename)\n",
    "    Xextra = data['X']\n",
    "    Xextra = np.rollaxis(Xextra, 3)\n",
    "    yextra = data['y']\n",
    "    yextra[yextra == 10] = 0\n",
    "    yextra = yextra.reshape((len(yextra), 1))\n",
    "    print(Xextra.shape)\n",
    "    print(yextra.shape)\n",
    "\n",
    "    print('final')\n",
    "    Xfinal2 = np.concatenate((Xfinal, Xextra))\n",
    "    yfinal2 = np.concatenate((yfinal, yextra))\n",
    "    print(Xfinal2.shape)\n",
    "    print(yfinal2.shape)\n",
    "    filename = 'digits.mat'\n",
    "    data = {\n",
    "        'X': Xfinal2,\n",
    "        'y': yfinal2\n",
    "    }\n",
    "    data = scipy.io.savemat(filename, data)\n",
    "createCombinedFormat2Matfile()"
   ]
  },
  {
   "cell_type": "code",
   "execution_count": 2,
   "metadata": {},
   "outputs": [],
   "source": [
    "def putnondigitsintomat():\n",
    "    filenames = glob.glob('alldata/*.png')\n",
    "    images = []\n",
    "    for i, filename in enumerate(filenames):\n",
    "        img = cv2.imread(filename)\n",
    "        images.append(img)\n",
    "    \n",
    "    filename = 'nondigits.mat'\n",
    "    y = ['10' for i in range(len(images))]\n",
    "    y = np.array(y)\n",
    "    y = y.reshape((len(images), 1))\n",
    "    data = {\n",
    "        'X': images,\n",
    "        'y': y\n",
    "    }\n",
    "    scipy.io.savemat(filename, data)\n",
    "\n",
    "putnondigitsintomat()"
   ]
  },
  {
   "cell_type": "code",
   "execution_count": 4,
   "metadata": {},
   "outputs": [
    {
     "name": "stdout",
     "output_type": "stream",
     "text": [
      "(866612, 32, 32, 3)\n",
      "(866612, 1)\n"
     ]
    }
   ],
   "source": [
    "def combineDigitsAndNonDigits():\n",
    "    filename = 'digits.mat'\n",
    "    data = scipy.io.loadmat(filename)\n",
    "    Xdig = data['X']\n",
    "    ydig = data['y']\n",
    "    \n",
    "    filename = 'nondigits.mat'\n",
    "    data = scipy.io.loadmat(filename)\n",
    "    Xnon = data['X']\n",
    "    ynon = data['y']\n",
    "\n",
    "    Xfinal = np.concatenate((Xdig, Xnon))\n",
    "    yfinal = np.concatenate((ydig, ynon))\n",
    "    print(Xfinal.shape)\n",
    "    print(yfinal.shape)\n",
    "    filename = 'combined.mat'\n",
    "    data = {\n",
    "        'X': Xfinal,\n",
    "        'y': yfinal\n",
    "    }\n",
    "    data = scipy.io.savemat(filename, data)\n",
    "\n",
    "combineDigitsAndNonDigits()\n"
   ]
  },
  {
   "cell_type": "code",
   "execution_count": 4,
   "metadata": {},
   "outputs": [
    {
     "name": "stdout",
     "output_type": "stream",
     "text": [
      "Training/Validation set size:  606628\n",
      "Testing set size:  259984\n",
      "Training set size:  424639\n",
      "Validation set size:  181989\n"
     ]
    }
   ],
   "source": [
    "from sklearn.model_selection import train_test_split\n",
    "filename = 'combined.mat'\n",
    "data = scipy.io.loadmat(filename)\n",
    "X = data['X']\n",
    "y = data['y']\n",
    "\n",
    "Xtrainval, Xtest, ytrainval, ytest = train_test_split(X, y, test_size=0.30, random_state=42)\n",
    "print('Training/Validation set size: ', len(Xtrainval))\n",
    "print('Testing set size: ', len(Xtest))\n",
    "\n",
    "Xtrain, Xval, ytrain, yval = train_test_split(Xtrainval, ytrainval, test_size=0.30, random_state=42)\n",
    "print('Training set size: ', len(Xtrain))\n",
    "print('Validation set size: ', len(Xval))\n",
    "    \n",
    "    "
   ]
  },
  {
   "cell_type": "code",
   "execution_count": 9,
   "metadata": {},
   "outputs": [
    {
     "name": "stdout",
     "output_type": "stream",
     "text": [
      "Separated train\n",
      "Separated validation\n"
     ]
    }
   ],
   "source": [
    "def separateData(folder, X, y, count):\n",
    "    y = y.flatten()\n",
    "    for i, img in enumerate(X):\n",
    "        label = int(y[i])\n",
    "#         print('#{}#'.format(label))\n",
    "        cv2.imwrite('{}/{}/{}.png'.format(folder, label, count), img)\n",
    "        count += 1\n",
    "    return count\n",
    "\n",
    "count = 0\n",
    "count = separateData('train', Xtrain, ytrain, count)\n",
    "print(\"Separated train\")\n",
    "count = separateData('validation', Xval, yval, count)\n",
    "print(\"Separated validation\")\n",
    "count = separateData('test', Xtest, ytest, count)\n"
   ]
  },
  {
   "cell_type": "code",
   "execution_count": null,
   "metadata": {},
   "outputs": [],
   "source": []
  },
  {
   "cell_type": "code",
   "execution_count": null,
   "metadata": {},
   "outputs": [],
   "source": []
  }
 ],
 "metadata": {
  "kernelspec": {
   "display_name": "Python 3",
   "language": "python",
   "name": "python3"
  },
  "language_info": {
   "codemirror_mode": {
    "name": "ipython",
    "version": 3
   },
   "file_extension": ".py",
   "mimetype": "text/x-python",
   "name": "python",
   "nbconvert_exporter": "python",
   "pygments_lexer": "ipython3",
   "version": "3.5.2"
  },
  "widgets": {
   "state": {},
   "version": "1.1.2"
  }
 },
 "nbformat": 4,
 "nbformat_minor": 2
}
